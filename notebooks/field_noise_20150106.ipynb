{
 "metadata": {
  "name": "",
  "signature": "sha256:1fb73b13e8fede3124be6b59b6e2e35cce27b0c594c429fd2227791afccae971"
 },
 "nbformat": 3,
 "nbformat_minor": 0,
 "worksheets": [
  {
   "cells": [
    {
     "cell_type": "raw",
     "metadata": {},
     "source": [
      "The goal of this notebook is to determine whether the measured field noise from 2015-01-06 is at the limit of what is achievable with this imaging setup.\n",
      "\n",
      "The main dataset of interest is taken at I_sat with pulse time 100 usec, and gave a field noise of 6 nT."
     ]
    },
    {
     "cell_type": "markdown",
     "metadata": {},
     "source": [
      "The optical depth, D, is related to measured intensities via:\n",
      "\n",
      "$$D = -\\log{\\frac{I_l}{I_a}} + \\frac{I_l - I_a}{I_{sat}}$$\n",
      "\n",
      "and we can divide out by a conversion factor to express this in terms of counts L, A, and S at the various intensities:\n",
      "\n",
      "$$D = -\\log{\\frac{L}{A}} + \\frac{L - A}{S}}$$\n",
      "\n",
      "where the counts L and A are independent poissonian random variables with the same mean (in the absence of atoms).\n",
      "\n",
      "Then the uncertainty in the optical depth measurement is:\n",
      "\n",
      "$$\\Delta D^2 = "
     ]
    },
    {
     "cell_type": "code",
     "collapsed": false,
     "input": [],
     "language": "python",
     "metadata": {},
     "outputs": []
    }
   ],
   "metadata": {}
  }
 ]
}