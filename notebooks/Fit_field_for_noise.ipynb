{
 "metadata": {
  "name": "",
  "signature": "sha256:ca72df9ccce121653bf227d49066dcad7708dff7a3260b5e2933d3983926edfe"
 },
 "nbformat": 3,
 "nbformat_minor": 0,
 "worksheets": [
  {
   "cells": [
    {
     "cell_type": "code",
     "collapsed": false,
     "input": [
      "%matplotlib inline"
     ],
     "language": "python",
     "metadata": {},
     "outputs": [],
     "prompt_number": 1
    },
    {
     "cell_type": "code",
     "collapsed": false,
     "input": [
      "import sys\n",
      "sys.path.append(r'/Users/shenglanqiao/Documents/LevLab/ACM/GitHub/BECy_stats')"
     ],
     "language": "python",
     "metadata": {},
     "outputs": [],
     "prompt_number": 2
    },
    {
     "cell_type": "code",
     "collapsed": false,
     "input": [
      "from cloud_distribution import CloudDistribution as CD\n",
      "from cloud_image import CloudImage as ci\n",
      "import matplotlib.pyplot as plt\n",
      "from cloud_image import image_subtract as imsub\n",
      "import numpy as np"
     ],
     "language": "python",
     "metadata": {},
     "outputs": [],
     "prompt_number": 3
    },
    {
     "cell_type": "code",
     "collapsed": false,
     "input": [
      "datadir = r'/Users/shenglanqiao/Documents/LevLab/ACM/test_data/atoms_unpertrubed_insitu_01-02-2015/'"
     ],
     "language": "python",
     "metadata": {},
     "outputs": [],
     "prompt_number": 8
    },
    {
     "cell_type": "code",
     "collapsed": false,
     "input": [
      "dist = CD(datadir,False)"
     ],
     "language": "python",
     "metadata": {},
     "outputs": [
      {
       "output_type": "stream",
       "stream": "stdout",
       "text": [
        "/Users/shenglanqiao/Documents/LevLab/ACM/test_data/atoms_unpertrubed_insitu_01-02-2015/\n"
       ]
      }
     ],
     "prompt_number": 10
    },
    {
     "cell_type": "code",
     "collapsed": false,
     "input": [
      "im1 = ci(dist.filelist[0])\n",
      "bf1 = im1.get_gerbier_field()"
     ],
     "language": "python",
     "metadata": {},
     "outputs": [
      {
       "metadata": {},
       "output_type": "pyout",
       "prompt_number": 11,
       "text": [
        "10"
       ]
      }
     ],
     "prompt_number": 11
    },
    {
     "cell_type": "code",
     "collapsed": false,
     "input": [],
     "language": "python",
     "metadata": {},
     "outputs": []
    }
   ],
   "metadata": {}
  }
 ]
}