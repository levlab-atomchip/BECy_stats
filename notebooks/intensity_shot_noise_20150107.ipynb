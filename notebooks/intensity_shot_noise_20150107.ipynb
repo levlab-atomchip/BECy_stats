{
 "metadata": {
  "name": "",
  "signature": "sha256:742d3a4fa3c52282696d85afeba986c8a9d8cd508f15b0ebb1301cb5ff799a3e"
 },
 "nbformat": 3,
 "nbformat_minor": 0,
 "worksheets": [
  {
   "cells": [
    {
     "cell_type": "raw",
     "metadata": {},
     "source": [
      "The goal of this notebook is to measure the intensity noise from a representative data set in a similar way to Aigner. We bin the atom image by intensity, and within each bin take the variance of the atom to light image differences. The result should be linear."
     ]
    },
    {
     "cell_type": "code",
     "collapsed": false,
     "input": [
      "%matplotlib inline"
     ],
     "language": "python",
     "metadata": {},
     "outputs": [],
     "prompt_number": 1
    },
    {
     "cell_type": "code",
     "collapsed": false,
     "input": [],
     "language": "python",
     "metadata": {},
     "outputs": []
    },
    {
     "cell_type": "code",
     "collapsed": false,
     "input": [
      "datadir = r'/home/will/levlab/data/intensity_noise_20150107/'"
     ],
     "language": "python",
     "metadata": {},
     "outputs": []
    }
   ],
   "metadata": {}
  }
 ]
}